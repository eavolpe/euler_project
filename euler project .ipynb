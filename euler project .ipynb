{
 "cells": [
  {
   "cell_type": "markdown",
   "metadata": {},
   "source": [
    "# Project Euler"
   ]
  },
  {
   "cell_type": "markdown",
   "metadata": {},
   "source": [
    "# 1.\n",
    "Sum multiples of $3$ and $5$ below 1000\n",
    "Explicitly\n",
    "$$ f(1000) = 3\\sum_{k=1}^{333} k + 5\\sum_{j=1}^{199} j - 15\\sum_{i=1}^{66} i\n",
    "$$\n",
    "Using\n",
    "$$\n",
    "\\sum_{i=1}^j i = \\frac{j^2+j}{2}\n",
    "$$\n",
    "Where the upper index in the sum is $1000/3$"
   ]
  },
  {
   "cell_type": "markdown",
   "metadata": {},
   "source": [
    "# 2. \n",
    "EVEN VALUE TERMS, NOT EVEN INDEX TERMS\n",
    "Notice the following property:\n",
    "$$\n",
    "\\sum_{n =1}^k F_{2n}  = F_{2k+1} -1 \\quad (*)\n",
    "$$\n",
    "So this amounts to calculating $F_{k}$.\n",
    "$*$ Can be proved by induction, the base case is trivial. Assuming the property holds for $k$, lets verify the $k+1$ case:\n",
    "$$\n",
    "\\sum_{n=1}^{k+1}F_{2n} = \\sum_{n=1}^k F_{2n}+F_{2k+2} = \\left(F_{2k+1}-1 \\right)+F_{2k+2} = \\left(F_{2k+1}+F_{2k+2}\\right)-1 = F_{2k+3}-1\n",
    "$$\n",
    "Now all we need is that the terms in the sum dont exceed $4000000$. This amounts to making the condition of "
   ]
  },
  {
   "cell_type": "code",
   "execution_count": 10,
   "metadata": {
    "scrolled": true
   },
   "outputs": [
    {
     "name": "stdout",
     "output_type": "stream",
     "text": [
      "1 2\n",
      "3 5\n",
      "Suma de pares 2\n",
      "8 13\n",
      "Suma de pares 7\n",
      "21 34\n",
      "Suma de pares 20\n",
      "55 89\n",
      "Suma de pares 54\n",
      "144 233\n",
      "Suma de pares 143\n",
      "377 610\n",
      "Suma de pares 376\n",
      "987 1597\n",
      "Suma de pares 986\n",
      "2584 4181\n",
      "Suma de pares 2583\n",
      "6765 10946\n",
      "Suma de pares 6764\n",
      "17711 28657\n",
      "Suma de pares 17710\n",
      "46368 75025\n",
      "Suma de pares 46367\n",
      "121393 196418\n",
      "Suma de pares 121392\n",
      "317811 514229\n",
      "Suma de pares 317810\n",
      "832040 1346269\n",
      "Suma de pares 832039\n",
      "2178309 3524578\n",
      "Suma de pares 2178308\n",
      "5702887 9227465\n",
      "Suma de pares 5702886\n"
     ]
    },
    {
     "data": {
      "text/plain": [
       "[1,\n",
       " 2,\n",
       " 3,\n",
       " 5,\n",
       " 8,\n",
       " 13,\n",
       " 21,\n",
       " 34,\n",
       " 55,\n",
       " 89,\n",
       " 144,\n",
       " 233,\n",
       " 377,\n",
       " 610,\n",
       " 987,\n",
       " 1597,\n",
       " 2584,\n",
       " 4181,\n",
       " 6765,\n",
       " 10946,\n",
       " 17711,\n",
       " 28657,\n",
       " 46368,\n",
       " 75025,\n",
       " 121393,\n",
       " 196418,\n",
       " 317811,\n",
       " 514229,\n",
       " 832040,\n",
       " 1346269,\n",
       " 2178309,\n",
       " 3524578,\n",
       " 5702887,\n",
       " 9227465]"
      ]
     },
     "execution_count": 10,
     "metadata": {},
     "output_type": "execute_result"
    }
   ],
   "source": [
    "y = []\n",
    "p = 1\n",
    "s = 2\n",
    "y.append(p)\n",
    "y.append(s)\n",
    "print(p,s)\n",
    "while s < 4000000:\n",
    "    p = p+s\n",
    "    s=s+p\n",
    "    print(p,s)\n",
    "    y.append(p)\n",
    "    y.append(s)\n",
    "    print('Suma de pares '+str(p-1))\n",
    "y"
   ]
  },
  {
   "cell_type": "code",
   "execution_count": 11,
   "metadata": {},
   "outputs": [
    {
     "name": "stdout",
     "output_type": "stream",
     "text": [
      "9227464\n"
     ]
    }
   ],
   "source": [
    "r =0\n",
    "for i in range(len(y)):\n",
    "    if i%2 ==0:\n",
    "        r += y[i]\n",
    "print(r)"
   ]
  }
 ],
 "metadata": {
  "kernelspec": {
   "display_name": "Python 3",
   "language": "python",
   "name": "python3"
  },
  "language_info": {
   "codemirror_mode": {
    "name": "ipython",
    "version": 3
   },
   "file_extension": ".py",
   "mimetype": "text/x-python",
   "name": "python",
   "nbconvert_exporter": "python",
   "pygments_lexer": "ipython3",
   "version": "3.8.3"
  }
 },
 "nbformat": 4,
 "nbformat_minor": 4
}
