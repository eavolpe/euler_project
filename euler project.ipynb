{
 "cells": [
  {
   "cell_type": "markdown",
   "metadata": {},
   "source": [
    "# Project Euler"
   ]
  },
  {
   "cell_type": "markdown",
   "metadata": {},
   "source": [
    "# 1.\n",
    "Sum multiples of $3$ and $5$ below 1000\n",
    "Explicitly\n",
    "$$ f(1000) = 3\\sum_{k=1}^{333} k + 5\\sum_{j=1}^{199} j - 15\\sum_{i=1}^{66} i\n",
    "$$\n",
    "Using\n",
    "$$\n",
    "\\sum_{i=1}^j i = \\frac{j^2+j}{2}\n",
    "$$\n",
    "Where the upper index in the sum is $1000/3$"
   ]
  },
  {
   "cell_type": "markdown",
   "metadata": {},
   "source": [
    "# 2. \n",
    "Notice the following property:\n",
    "$$\n",
    "\\sum_{n =1}^k F_{2n}  = F_{2k+1} -1\n",
    "$$\n",
    "So this amounts to calculating"
   ]
  },
  {
   "cell_type": "code",
   "execution_count": null,
   "metadata": {},
   "outputs": [],
   "source": [
    "s = 1\n",
    "while s < 4000000:\n",
    "    "
   ]
  }
 ],
 "metadata": {
  "kernelspec": {
   "display_name": "Python 3",
   "language": "python",
   "name": "python3"
  },
  "language_info": {
   "codemirror_mode": {
    "name": "ipython",
    "version": 3
   },
   "file_extension": ".py",
   "mimetype": "text/x-python",
   "name": "python",
   "nbconvert_exporter": "python",
   "pygments_lexer": "ipython3",
   "version": "3.8.3"
  }
 },
 "nbformat": 4,
 "nbformat_minor": 4
}
